{
 "cells": [
  {
   "cell_type": "code",
   "execution_count": null,
   "metadata": {},
   "outputs": [],
   "source": [
    "#!pip install docx\n",
    "#!pip install python-docx "
   ]
  },
  {
   "cell_type": "markdown",
   "metadata": {},
   "source": [
    "# Goal\n",
    "\n",
    "Take a folder of hundreds of Microsoft Word documents and convert them into one text file. Challenge: each word document ends in either \".doc\" or \".docx\". Another challenge is that the first 3-4 lines of each document are not necessary because it is a header. Need to remove those as well."
   ]
  },
  {
   "cell_type": "code",
   "execution_count": null,
   "metadata": {},
   "outputs": [],
   "source": [
    "# Import dependencies\n",
    "import os\n",
    "\n",
    "import docx\n",
    "import glob\n",
    "import nltk\n",
    "from nltk.corpus import stopwords\n",
    "import sys\n",
    "import codecs"
   ]
  },
  {
   "cell_type": "code",
   "execution_count": null,
   "metadata": {},
   "outputs": [],
   "source": [
    "path= '/Users/nicholasbeaudoin/Desktop/Sermons/sermon_archive/'"
   ]
  },
  {
   "cell_type": "code",
   "execution_count": null,
   "metadata": {},
   "outputs": [],
   "source": [
    "!pwd"
   ]
  },
  {
   "cell_type": "code",
   "execution_count": null,
   "metadata": {},
   "outputs": [],
   "source": [
    "\n",
    "\n",
    "'''\n",
    "The getText() function opens the Word document, loops over all the Paragraph \n",
    "objects in the paragraphs list, and then appends their text to the list in \n",
    "fullText. After the loop, the strings in fullText are joined together with \n",
    "newline characters.\n",
    "'''\n",
    "def getText(filename):\n",
    "    doc = docx.Document(filename)\n",
    "    fullText = []\n",
    "    counter = 0\n",
    "    for para in doc.paragraphs:\n",
    "        counter +=1 \n",
    "        if counter > 8:\n",
    "            #print(counter)\n",
    "            #print(para.text)\n",
    "            #print('     ')\n",
    "            fullText.append(para.text)\n",
    "    return '\\n'.join(fullText)\n"
   ]
  },
  {
   "cell_type": "code",
   "execution_count": null,
   "metadata": {},
   "outputs": [],
   "source": [
    "file = '/Users/nicholasbeaudoin/Desktop/Sermons/sermon_archive/Sermon FHCUCC 2.19.17.docx'\n",
    "getText(file)\n",
    "\n",
    "# New lines extend x 7 before sermon begins\n"
   ]
  },
  {
   "cell_type": "code",
   "execution_count": null,
   "metadata": {},
   "outputs": [],
   "source": [
    "\n",
    "# Get all files in the path folder ending in .docx and put in list\n",
    "files = []\n",
    "\n",
    "for root, dirs, files in os.walk(path):\n",
    "    files += glob.glob(os.path.join(root, '.docx'))\n",
    "    files += glob.glob(os.path.join(root, '.doc'))\n",
    "    files += glob.glob(os.path.join(root))\n",
    "    \n",
    "# Check the list\n",
    "print(len(files))"
   ]
  },
  {
   "cell_type": "code",
   "execution_count": null,
   "metadata": {},
   "outputs": [],
   "source": [
    "# Duplicates won't load :)\n",
    "\n",
    "text = []\n",
    "for file in files:\n",
    "    try:\n",
    "        print(file)\n",
    "        sermon = getText(path + file)\n",
    "        text.append(sermon)\n",
    "    except:\n",
    "        print(file, \"--> File not loaded\")\n",
    "        pass  ## skip anything that doesn't end in a .docx\n",
    "    \n",
    "len(text) ## 42 paragraphs"
   ]
  },
  {
   "cell_type": "code",
   "execution_count": null,
   "metadata": {},
   "outputs": [],
   "source": [
    "text"
   ]
  },
  {
   "cell_type": "code",
   "execution_count": null,
   "metadata": {},
   "outputs": [],
   "source": [
    "with open('sermon_corpus.txt', 'w') as f:\n",
    "    for item in text:\n",
    "        f.write(\"%s\\n\" % item)"
   ]
  },
  {
   "cell_type": "code",
   "execution_count": null,
   "metadata": {},
   "outputs": [],
   "source": []
  }
 ],
 "metadata": {
  "kernelspec": {
   "display_name": "Python 3",
   "language": "python",
   "name": "python3"
  },
  "language_info": {
   "codemirror_mode": {
    "name": "ipython",
    "version": 3
   },
   "file_extension": ".py",
   "mimetype": "text/x-python",
   "name": "python",
   "nbconvert_exporter": "python",
   "pygments_lexer": "ipython3",
   "version": "3.7.3"
  }
 },
 "nbformat": 4,
 "nbformat_minor": 2
}
